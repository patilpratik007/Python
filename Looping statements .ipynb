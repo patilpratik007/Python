{
 "cells": [
  {
   "cell_type": "markdown",
   "id": "6c17c189",
   "metadata": {},
   "source": [
    "## looping statements"
   ]
  },
  {
   "cell_type": "code",
   "execution_count": null,
   "id": "27041e05",
   "metadata": {},
   "outputs": [],
   "source": [
    "## for loop\n",
    "for x in range(0,10):\n",
    " print(x , end=', ')"
   ]
  },
  {
   "cell_type": "code",
   "execution_count": null,
   "id": "a2b9c9ca",
   "metadata": {},
   "outputs": [],
   "source": [
    "## break \n",
    "nums = [1,2,3,5,4]\n",
    "for x in nums:\n",
    "    if(x==5):\n",
    "        break\n",
    "    print(x, end=', ')\n",
    "print('Done')\n"
   ]
  },
  {
   "cell_type": "code",
   "execution_count": null,
   "id": "5d074273",
   "metadata": {},
   "outputs": [],
   "source": [
    "## continue - Mentioned no. skipped and continued\n",
    "nums = [1,2,3,5,4]\n",
    "for x in nums:\n",
    "    if(x==5):\n",
    "       continue \n",
    "    print(x, end=', ')\n"
   ]
  },
  {
   "cell_type": "code",
   "execution_count": null,
   "id": "ebd2a3ac",
   "metadata": {},
   "outputs": [],
   "source": [
    "## while \n",
    "a= 10\n",
    "while a != 0:\n",
    " print(a)\n",
    " a-= 1\n"
   ]
  },
  {
   "cell_type": "code",
   "execution_count": null,
   "id": "609a5ad8",
   "metadata": {},
   "outputs": [],
   "source": [
    "i = 1\n",
    "while i <= 6:\n",
    "  print(i)\n",
    "  i += 1\n"
   ]
  },
  {
   "cell_type": "code",
   "execution_count": null,
   "id": "1682353e",
   "metadata": {},
   "outputs": [],
   "source": []
  },
  {
   "cell_type": "code",
   "execution_count": null,
   "id": "11607a49",
   "metadata": {},
   "outputs": [],
   "source": []
  }
 ],
 "metadata": {
  "kernelspec": {
   "display_name": "Python 3 (ipykernel)",
   "language": "python",
   "name": "python3"
  },
  "language_info": {
   "codemirror_mode": {
    "name": "ipython",
    "version": 3
   },
   "file_extension": ".py",
   "mimetype": "text/x-python",
   "name": "python",
   "nbconvert_exporter": "python",
   "pygments_lexer": "ipython3",
   "version": "3.9.7"
  }
 },
 "nbformat": 4,
 "nbformat_minor": 5
}
