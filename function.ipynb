{
 "cells": [
  {
   "cell_type": "markdown",
   "id": "1c9c9aad",
   "metadata": {},
   "source": [
    "### functions -A block of reusable code that runs when called"
   ]
  },
  {
   "cell_type": "markdown",
   "id": "fda545c3",
   "metadata": {},
   "source": [
    "### built-in"
   ]
  },
  {
   "cell_type": "code",
   "execution_count": null,
   "id": "534837e5",
   "metadata": {},
   "outputs": [],
   "source": [
    "print(\"Hello\",\"Welcome to the session\",sep=':')"
   ]
  },
  {
   "cell_type": "code",
   "execution_count": null,
   "id": "47ebf1b8",
   "metadata": {},
   "outputs": [],
   "source": [
    "print(\"you are\"+\" the best \")"
   ]
  },
  {
   "cell_type": "markdown",
   "id": "feb48968",
   "metadata": {},
   "source": [
    "### user defined"
   ]
  },
  {
   "cell_type": "code",
   "execution_count": null,
   "id": "880cc5c8",
   "metadata": {},
   "outputs": [],
   "source": [
    "def greet():\n",
    "    print(\"Hello and Welcome to the session\")\n",
    "greet()"
   ]
  },
  {
   "cell_type": "code",
   "execution_count": null,
   "id": "86945b71",
   "metadata": {},
   "outputs": [],
   "source": [
    "def greet(name):\n",
    "    print(\"Hello\", name,\"Welcome to the session\")\n",
    "name=input(\"enter your name:\")   \n",
    "greet(name)"
   ]
  },
  {
   "cell_type": "code",
   "execution_count": null,
   "id": "ed815692",
   "metadata": {
    "scrolled": true
   },
   "outputs": [],
   "source": [
    "## area of triangle using 3 sides \n",
    "a = float(input('Enter the length of first side: '))  \n",
    "b = float(input('Enter  the length of second side: '))  \n",
    "c = float(input('Enter  the length of third side: '))  \n",
    "s = (a + b + c) / 2  \n",
    "Area = (s*(s-a)*(s-b)*(s-c)) ** 0.5  \n",
    "print('The area of the triangle is %0.1f' %Area)"
   ]
  },
  {
   "cell_type": "code",
   "execution_count": null,
   "id": "e85d32b0",
   "metadata": {},
   "outputs": [],
   "source": [
    "## area of the triangle using base and height \n",
    "b= float(input('Enter the length of base: '))  \n",
    "h= float(input('Enter  the length of height: '))  \n",
    "Area=(0.5*b*h)\n",
    "print('The area of the triangle is %0.1f' %Area)"
   ]
  },
  {
   "cell_type": "code",
   "execution_count": null,
   "id": "a120d878",
   "metadata": {},
   "outputs": [],
   "source": [
    "## area of the circle\n",
    "def area_of_circle(r):\n",
    "    return(3.14*r**2)\n",
    "area_of_circle(5)"
   ]
  },
  {
   "cell_type": "code",
   "execution_count": null,
   "id": "4fc114e3",
   "metadata": {},
   "outputs": [],
   "source": [
    "## area of square\n",
    "a= input('Enter the length of side: ')\n",
    "Area= (int(a)**2)\n",
    "print('The area of the square is %0.2f' %Area)"
   ]
  },
  {
   "cell_type": "code",
   "execution_count": null,
   "id": "4a254022",
   "metadata": {},
   "outputs": [],
   "source": [
    "### Passing Arguments\n",
    "\n",
    "def addition(num1,num2):\n",
    "    print(\"First argument is:\",num1)\n",
    "    print(\"Second argument is:\",num2)\n",
    "num1=2\n",
    "num2=10\n",
    "addition(num1,num2)"
   ]
  },
  {
   "cell_type": "markdown",
   "id": "f26259a2",
   "metadata": {},
   "source": [
    "### lambda function"
   ]
  },
  {
   "cell_type": "code",
   "execution_count": null,
   "id": "935f3099",
   "metadata": {},
   "outputs": [],
   "source": [
    "def myfunc(n):\n",
    "  return lambda a : a * n\n",
    "\n",
    "mydoubler = myfunc(2)\n",
    "\n",
    "print(mydoubler(11))"
   ]
  },
  {
   "cell_type": "code",
   "execution_count": null,
   "id": "ef5fa8d1",
   "metadata": {},
   "outputs": [],
   "source": [
    "def myfunc(n):\n",
    "  return lambda a :a+1\n",
    "next_digit = myfunc(+1)\n",
    "\n",
    "print(next_digit(11))"
   ]
  },
  {
   "cell_type": "code",
   "execution_count": null,
   "id": "1b7a0626",
   "metadata": {},
   "outputs": [],
   "source": [
    "### greatest number\n",
    "def greater(num1,num2):\n",
    "    if(num1>num2):\n",
    "        return num1\n",
    "    else:\n",
    "        return num2\n",
    "\n",
    "great=greater(7,8)\n",
    "great\n",
    "\n",
    "greater=lambda num1,num2:num1 if num1>num2 else num2\n",
    "greater(8,35)"
   ]
  }
 ],
 "metadata": {
  "kernelspec": {
   "display_name": "Python 3 (ipykernel)",
   "language": "python",
   "name": "python3"
  },
  "language_info": {
   "codemirror_mode": {
    "name": "ipython",
    "version": 3
   },
   "file_extension": ".py",
   "mimetype": "text/x-python",
   "name": "python",
   "nbconvert_exporter": "python",
   "pygments_lexer": "ipython3",
   "version": "3.9.7"
  }
 },
 "nbformat": 4,
 "nbformat_minor": 5
}
