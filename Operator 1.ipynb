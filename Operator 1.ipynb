{
 "cells": [
  {
   "cell_type": "markdown",
   "id": "f6e19a7f",
   "metadata": {},
   "source": [
    "## Arithmatic operator "
   ]
  },
  {
   "cell_type": "code",
   "execution_count": 1,
   "id": "562a564e",
   "metadata": {},
   "outputs": [
    {
     "data": {
      "text/plain": [
       "8"
      ]
     },
     "execution_count": 1,
     "metadata": {},
     "output_type": "execute_result"
    }
   ],
   "source": [
    "#Addition \n",
    "\n",
    "3 + 5"
   ]
  },
  {
   "cell_type": "code",
   "execution_count": 2,
   "id": "6dfe9bb4",
   "metadata": {},
   "outputs": [
    {
     "data": {
      "text/plain": [
       "-10"
      ]
     },
     "execution_count": 2,
     "metadata": {},
     "output_type": "execute_result"
    }
   ],
   "source": [
    "#subtraction \n",
    "50-60"
   ]
  },
  {
   "cell_type": "code",
   "execution_count": 3,
   "id": "8b0a5210",
   "metadata": {},
   "outputs": [
    {
     "data": {
      "text/plain": [
       "50"
      ]
     },
     "execution_count": 3,
     "metadata": {},
     "output_type": "execute_result"
    }
   ],
   "source": [
    "# Multiplication\n",
    "5*10"
   ]
  },
  {
   "cell_type": "code",
   "execution_count": 5,
   "id": "2c47974e",
   "metadata": {},
   "outputs": [
    {
     "data": {
      "text/plain": [
       "10.0"
      ]
     },
     "execution_count": 5,
     "metadata": {},
     "output_type": "execute_result"
    }
   ],
   "source": [
    "#Division\n",
    "50/5"
   ]
  },
  {
   "cell_type": "code",
   "execution_count": 6,
   "id": "980fa209",
   "metadata": {
    "scrolled": true
   },
   "outputs": [
    {
     "data": {
      "text/plain": [
       "'Pratik21'"
      ]
     },
     "execution_count": 6,
     "metadata": {},
     "output_type": "execute_result"
    }
   ],
   "source": [
    "\"Pratik\"+\"21\""
   ]
  },
  {
   "cell_type": "code",
   "execution_count": 7,
   "id": "67b640da",
   "metadata": {},
   "outputs": [
    {
     "data": {
      "text/plain": [
       "'PratikPratikPratikPratikPratik'"
      ]
     },
     "execution_count": 7,
     "metadata": {},
     "output_type": "execute_result"
    }
   ],
   "source": [
    "\"Pratik\" * 5"
   ]
  },
  {
   "cell_type": "markdown",
   "id": "3cf5e74b",
   "metadata": {},
   "source": [
    "## Relational operator "
   ]
  },
  {
   "cell_type": "code",
   "execution_count": 8,
   "id": "ef864203",
   "metadata": {},
   "outputs": [
    {
     "data": {
      "text/plain": [
       "True"
      ]
     },
     "execution_count": 8,
     "metadata": {},
     "output_type": "execute_result"
    }
   ],
   "source": [
    "# greater than \n",
    "23<25"
   ]
  },
  {
   "cell_type": "code",
   "execution_count": 9,
   "id": "9b9cc1b9",
   "metadata": {},
   "outputs": [
    {
     "data": {
      "text/plain": [
       "False"
      ]
     },
     "execution_count": 9,
     "metadata": {},
     "output_type": "execute_result"
    }
   ],
   "source": [
    "# less than \n",
    "45<10"
   ]
  },
  {
   "cell_type": "code",
   "execution_count": 10,
   "id": "ea38ce86",
   "metadata": {},
   "outputs": [
    {
     "data": {
      "text/plain": [
       "True"
      ]
     },
     "execution_count": 10,
     "metadata": {},
     "output_type": "execute_result"
    }
   ],
   "source": [
    "45==45"
   ]
  },
  {
   "cell_type": "markdown",
   "id": "29d77114",
   "metadata": {},
   "source": [
    "## Logical operator "
   ]
  },
  {
   "cell_type": "code",
   "execution_count": 11,
   "id": "5d3c76f2",
   "metadata": {},
   "outputs": [
    {
     "data": {
      "text/plain": [
       "0"
      ]
     },
     "execution_count": 11,
     "metadata": {},
     "output_type": "execute_result"
    }
   ],
   "source": [
    "# and operator \n",
    "0 and 5"
   ]
  },
  {
   "cell_type": "code",
   "execution_count": 12,
   "id": "97c27b96",
   "metadata": {},
   "outputs": [
    {
     "data": {
      "text/plain": [
       "0"
      ]
     },
     "execution_count": 12,
     "metadata": {},
     "output_type": "execute_result"
    }
   ],
   "source": [
    "# and operator \n",
    "5 and 0"
   ]
  },
  {
   "cell_type": "code",
   "execution_count": 13,
   "id": "4b7ae95e",
   "metadata": {},
   "outputs": [
    {
     "data": {
      "text/plain": [
       "14"
      ]
     },
     "execution_count": 13,
     "metadata": {},
     "output_type": "execute_result"
    }
   ],
   "source": [
    "# and operator \n",
    "8 and 14"
   ]
  },
  {
   "cell_type": "code",
   "execution_count": 14,
   "id": "956add52",
   "metadata": {},
   "outputs": [
    {
     "data": {
      "text/plain": [
       "3"
      ]
     },
     "execution_count": 14,
     "metadata": {},
     "output_type": "execute_result"
    }
   ],
   "source": [
    "# or operator \n",
    "0 or 3"
   ]
  },
  {
   "cell_type": "markdown",
   "id": "a7bc62b7",
   "metadata": {},
   "source": [
    "## Identity operator "
   ]
  },
  {
   "cell_type": "code",
   "execution_count": 3,
   "id": "d207a27c",
   "metadata": {},
   "outputs": [
    {
     "name": "stdout",
     "output_type": "stream",
     "text": [
      "Incorrect\n"
     ]
    }
   ],
   "source": [
    "x=5.2\n",
    "if(type(x)is int):\n",
    "    print(\"Correct\")\n",
    "else:\n",
    "    print(\"Incorrect\")"
   ]
  },
  {
   "cell_type": "code",
   "execution_count": 4,
   "id": "2c55bdea",
   "metadata": {},
   "outputs": [
    {
     "name": "stdout",
     "output_type": "stream",
     "text": [
      "Correct\n"
     ]
    }
   ],
   "source": [
    "x=5.2\n",
    "if(type(x)is not int):\n",
    "    print(\"Correct\")\n",
    "else:\n",
    "    print(\"Incorrect\")"
   ]
  },
  {
   "cell_type": "markdown",
   "id": "55fb128b",
   "metadata": {},
   "source": [
    "## Membership operator"
   ]
  },
  {
   "cell_type": "code",
   "execution_count": 9,
   "id": "430ecc96",
   "metadata": {},
   "outputs": [
    {
     "name": "stdout",
     "output_type": "stream",
     "text": [
      " Yes a= is in the list \n"
     ]
    }
   ],
   "source": [
    "## is and is not are membership operator\n",
    "a=10\n",
    "list=[1,2,3,10]\n",
    "if (a in list):\n",
    "  print (\" Yes a is in the list \")\n",
    "else:\n",
    "  print ( \"No a is not in the list\")"
   ]
  }
 ],
 "metadata": {
  "kernelspec": {
   "display_name": "Python 3 (ipykernel)",
   "language": "python",
   "name": "python3"
  },
  "language_info": {
   "codemirror_mode": {
    "name": "ipython",
    "version": 3
   },
   "file_extension": ".py",
   "mimetype": "text/x-python",
   "name": "python",
   "nbconvert_exporter": "python",
   "pygments_lexer": "ipython3",
   "version": "3.9.7"
  }
 },
 "nbformat": 4,
 "nbformat_minor": 5
}
