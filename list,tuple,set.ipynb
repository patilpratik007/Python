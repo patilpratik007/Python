{
 "cells": [
  {
   "cell_type": "markdown",
   "id": "01da4892",
   "metadata": {},
   "source": [
    "### list"
   ]
  },
  {
   "cell_type": "code",
   "execution_count": null,
   "id": "03d88cf3",
   "metadata": {},
   "outputs": [],
   "source": [
    "sample_list=[1,2,5,8.5,\"hi\",1+2j]"
   ]
  },
  {
   "cell_type": "code",
   "execution_count": null,
   "id": "6fb3e07e",
   "metadata": {},
   "outputs": [],
   "source": [
    "sample_list"
   ]
  },
  {
   "cell_type": "code",
   "execution_count": null,
   "id": "55f9625e",
   "metadata": {},
   "outputs": [],
   "source": [
    "type(sample_list)"
   ]
  },
  {
   "cell_type": "code",
   "execution_count": null,
   "id": "f49a99de",
   "metadata": {},
   "outputs": [],
   "source": [
    "sample_list[0]"
   ]
  },
  {
   "cell_type": "code",
   "execution_count": null,
   "id": "8f81ed94",
   "metadata": {},
   "outputs": [],
   "source": [
    "sample_list[2]=5 ## add 5 in the list at 3rd position"
   ]
  },
  {
   "cell_type": "code",
   "execution_count": null,
   "id": "c9440230",
   "metadata": {},
   "outputs": [],
   "source": [
    "sample_list"
   ]
  },
  {
   "cell_type": "code",
   "execution_count": null,
   "id": "a11ea372",
   "metadata": {},
   "outputs": [],
   "source": [
    "sample_list.reverse()\n",
    "sample_list"
   ]
  },
  {
   "cell_type": "markdown",
   "id": "3f76fd7a",
   "metadata": {},
   "source": [
    "### tuple"
   ]
  },
  {
   "cell_type": "code",
   "execution_count": null,
   "id": "46647bba",
   "metadata": {},
   "outputs": [],
   "source": [
    "sample_tuple=(1,2,5,8.5,\"hi\",1+2j)"
   ]
  },
  {
   "cell_type": "code",
   "execution_count": null,
   "id": "5658651e",
   "metadata": {},
   "outputs": [],
   "source": [
    "sample_tuple"
   ]
  },
  {
   "cell_type": "code",
   "execution_count": null,
   "id": "3ca499da",
   "metadata": {},
   "outputs": [],
   "source": [
    "type(sample_tuple)"
   ]
  },
  {
   "cell_type": "code",
   "execution_count": null,
   "id": "0839d46d",
   "metadata": {},
   "outputs": [],
   "source": [
    "sample_tuple[2]"
   ]
  },
  {
   "cell_type": "code",
   "execution_count": null,
   "id": "05239993",
   "metadata": {},
   "outputs": [],
   "source": [
    "sample_tuple[2]=10"
   ]
  },
  {
   "cell_type": "code",
   "execution_count": null,
   "id": "7775ef7e",
   "metadata": {},
   "outputs": [],
   "source": [
    "sample_tuple.reverse()\n",
    "sample_tuple"
   ]
  },
  {
   "cell_type": "markdown",
   "id": "d916c4ac",
   "metadata": {},
   "source": [
    "### set \n"
   ]
  },
  {
   "cell_type": "code",
   "execution_count": null,
   "id": "faedec51",
   "metadata": {},
   "outputs": [],
   "source": [
    "sample_set = {1,123,43,23,45,67,22,21,3,66,66,0,23,43,1,\"hi\",\"for\",\"a\",\"abc\",252,13.5}"
   ]
  },
  {
   "cell_type": "code",
   "execution_count": null,
   "id": "c797c30f",
   "metadata": {},
   "outputs": [],
   "source": [
    "sample_set"
   ]
  },
  {
   "cell_type": "code",
   "execution_count": null,
   "id": "477ec292",
   "metadata": {},
   "outputs": [],
   "source": [
    "sample_set[2]"
   ]
  },
  {
   "cell_type": "code",
   "execution_count": null,
   "id": "ade7205d",
   "metadata": {},
   "outputs": [],
   "source": [
    "sample_set.add(99)\n",
    "sample_set"
   ]
  },
  {
   "cell_type": "code",
   "execution_count": null,
   "id": "9cf97500",
   "metadata": {},
   "outputs": [],
   "source": [
    "sample_set.remove(99)\n",
    "sample_set"
   ]
  },
  {
   "cell_type": "code",
   "execution_count": null,
   "id": "3e9ba9f3",
   "metadata": {},
   "outputs": [],
   "source": [
    "sample_set.reverse()\n",
    "sample_set"
   ]
  }
 ],
 "metadata": {
  "kernelspec": {
   "display_name": "Python 3 (ipykernel)",
   "language": "python",
   "name": "python3"
  },
  "language_info": {
   "codemirror_mode": {
    "name": "ipython",
    "version": 3
   },
   "file_extension": ".py",
   "mimetype": "text/x-python",
   "name": "python",
   "nbconvert_exporter": "python",
   "pygments_lexer": "ipython3",
   "version": "3.9.7"
  }
 },
 "nbformat": 4,
 "nbformat_minor": 5
}
