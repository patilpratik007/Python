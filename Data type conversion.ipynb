{
 "cells": [
  {
   "cell_type": "markdown",
   "id": "0dffad00",
   "metadata": {},
   "source": [
    "## data type conversion "
   ]
  },
  {
   "cell_type": "code",
   "execution_count": null,
   "id": "5d255764",
   "metadata": {},
   "outputs": [],
   "source": [
    "## implicit - no need to mention data type as both are of same type \n",
    "expenses=100\n",
    "sell= 120\n",
    "profit=(sell-expenses)\n",
    "print(profit)\n",
    "type(profit)"
   ]
  },
  {
   "cell_type": "code",
   "execution_count": null,
   "id": "5ed1512b",
   "metadata": {},
   "outputs": [],
   "source": [
    "## explicit\n",
    "expenses=100\n",
    "sell= \"120\"     ## error\n",
    "profit=(sell-expenses)\n",
    "print(profit)\n",
    "type(profit)"
   ]
  },
  {
   "cell_type": "code",
   "execution_count": null,
   "id": "f91c483b",
   "metadata": {},
   "outputs": [],
   "source": [
    "expenses=100\n",
    "sell= \"120\"\n",
    "profit=int(sell)-expenses\n",
    "print(profit)\n",
    "type(profit)"
   ]
  },
  {
   "cell_type": "code",
   "execution_count": null,
   "id": "5507f4f2",
   "metadata": {},
   "outputs": [],
   "source": [
    "expenses=100\n",
    "sell= 115.5\n",
    "profit=int(sell)-expenses\n",
    "print(profit)\n",
    "type(profit)"
   ]
  },
  {
   "cell_type": "code",
   "execution_count": null,
   "id": "5e0c6ddc",
   "metadata": {},
   "outputs": [],
   "source": []
  }
 ],
 "metadata": {
  "kernelspec": {
   "display_name": "Python 3 (ipykernel)",
   "language": "python",
   "name": "python3"
  },
  "language_info": {
   "codemirror_mode": {
    "name": "ipython",
    "version": 3
   },
   "file_extension": ".py",
   "mimetype": "text/x-python",
   "name": "python",
   "nbconvert_exporter": "python",
   "pygments_lexer": "ipython3",
   "version": "3.9.7"
  }
 },
 "nbformat": 4,
 "nbformat_minor": 5
}
