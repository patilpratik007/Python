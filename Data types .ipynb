{
 "cells": [
  {
   "cell_type": "code",
   "execution_count": null,
   "id": "9398238c",
   "metadata": {},
   "outputs": [],
   "source": [
    "x=25  ## Integer data\n",
    "print(x)\n",
    "type(x)"
   ]
  },
  {
   "cell_type": "code",
   "execution_count": null,
   "id": "81a81340",
   "metadata": {},
   "outputs": [],
   "source": [
    "y=1.2 ## Decimal\n",
    "print(y)\n",
    "type(y)"
   ]
  },
  {
   "cell_type": "code",
   "execution_count": null,
   "id": "8d7ebf77",
   "metadata": {},
   "outputs": [],
   "source": [
    "name=\"ABC\" ## String/ categorical \n",
    "print(name)\n",
    "type(name)"
   ]
  },
  {
   "cell_type": "code",
   "execution_count": null,
   "id": "0ae2a05e",
   "metadata": {},
   "outputs": [],
   "source": [
    "x=True ## Boolean- Trueor false \n",
    "type(x)\n",
    "\n",
    "\n"
   ]
  },
  {
   "cell_type": "code",
   "execution_count": null,
   "id": "b6eccb3f",
   "metadata": {},
   "outputs": [],
   "source": [
    "x=5\n",
    "x<6"
   ]
  },
  {
   "cell_type": "code",
   "execution_count": null,
   "id": "396574ff",
   "metadata": {},
   "outputs": [],
   "source": []
  }
 ],
 "metadata": {
  "kernelspec": {
   "display_name": "Python 3 (ipykernel)",
   "language": "python",
   "name": "python3"
  },
  "language_info": {
   "codemirror_mode": {
    "name": "ipython",
    "version": 3
   },
   "file_extension": ".py",
   "mimetype": "text/x-python",
   "name": "python",
   "nbconvert_exporter": "python",
   "pygments_lexer": "ipython3",
   "version": "3.9.7"
  }
 },
 "nbformat": 4,
 "nbformat_minor": 5
}
