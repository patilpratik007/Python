{
 "cells": [
  {
   "cell_type": "code",
   "execution_count": 8,
   "id": "3dda03f3",
   "metadata": {},
   "outputs": [
    {
     "name": "stdout",
     "output_type": "stream",
     "text": [
      "True\n"
     ]
    }
   ],
   "source": [
    "## if statement \n",
    "x=5\n",
    "y=6\n",
    "if(x<y):\n",
    "    print('True')"
   ]
  },
  {
   "cell_type": "code",
   "execution_count": 3,
   "id": "53468e2d",
   "metadata": {},
   "outputs": [
    {
     "name": "stdout",
     "output_type": "stream",
     "text": [
      "X Number is positive\n"
     ]
    }
   ],
   "source": [
    "## if else statement \n",
    "x= 1\n",
    "if(x>0):\n",
    "    print(\"X Number is positive\")\n",
    "else:\n",
    "    print(\"x Number is negative \")"
   ]
  },
  {
   "cell_type": "code",
   "execution_count": 4,
   "id": "6ba0b3df",
   "metadata": {},
   "outputs": [
    {
     "name": "stdout",
     "output_type": "stream",
     "text": [
      "Grade B\n"
     ]
    }
   ],
   "source": [
    "## if elif else 3 condition statement \n",
    "y=70\n",
    "if(y>90):\n",
    "    print(\"Grade A\")\n",
    "elif(90>=y>60):\n",
    "    print(\"Grade B\")\n",
    "else:\n",
    "    print(\"Grade F\")"
   ]
  },
  {
   "cell_type": "code",
   "execution_count": 7,
   "id": "a1c1f91a",
   "metadata": {},
   "outputs": [
    {
     "name": "stdout",
     "output_type": "stream",
     "text": [
      "x is greater than 20\n"
     ]
    }
   ],
   "source": [
    "## Nested if \n",
    "x=122\n",
    "if(x<20):\n",
    "    print(\"X is less than 20 \")\n",
    "    if (x<5):\n",
    "        print(\"x is less than 15\")\n",
    "    else:\n",
    "        \n",
    "        print(\"x is between 15 and 20\")\n",
    "else:\n",
    "    print(\"x is greater than 20\")\n",
    "        "
   ]
  },
  {
   "cell_type": "code",
   "execution_count": null,
   "id": "17932fa6",
   "metadata": {},
   "outputs": [],
   "source": []
  }
 ],
 "metadata": {
  "kernelspec": {
   "display_name": "Python 3 (ipykernel)",
   "language": "python",
   "name": "python3"
  },
  "language_info": {
   "codemirror_mode": {
    "name": "ipython",
    "version": 3
   },
   "file_extension": ".py",
   "mimetype": "text/x-python",
   "name": "python",
   "nbconvert_exporter": "python",
   "pygments_lexer": "ipython3",
   "version": "3.9.7"
  }
 },
 "nbformat": 4,
 "nbformat_minor": 5
}
