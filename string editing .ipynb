{
 "cells": [
  {
   "cell_type": "markdown",
   "id": "7b83f239",
   "metadata": {},
   "source": [
    "#### String editing "
   ]
  },
  {
   "cell_type": "code",
   "execution_count": null,
   "id": "092c404b",
   "metadata": {},
   "outputs": [],
   "source": [
    "text= \"Our country is the best\""
   ]
  },
  {
   "cell_type": "code",
   "execution_count": null,
   "id": "71c36a6f",
   "metadata": {},
   "outputs": [],
   "source": [
    "text.replace(\"Our country\",\"India\")\n"
   ]
  },
  {
   "cell_type": "code",
   "execution_count": null,
   "id": "89f84c0f",
   "metadata": {},
   "outputs": [],
   "source": [
    "text.upper()"
   ]
  },
  {
   "cell_type": "code",
   "execution_count": null,
   "id": "8a694d7e",
   "metadata": {},
   "outputs": [],
   "source": [
    "text.lower()"
   ]
  },
  {
   "cell_type": "code",
   "execution_count": null,
   "id": "5f9cf4a6",
   "metadata": {},
   "outputs": [],
   "source": [
    "text.title()"
   ]
  },
  {
   "cell_type": "code",
   "execution_count": null,
   "id": "8dee9af3",
   "metadata": {},
   "outputs": [],
   "source": [
    "string=\"25\"\n",
    "print(string.startswith(\"2\") ) \n",
    " "
   ]
  },
  {
   "cell_type": "code",
   "execution_count": null,
   "id": "90340a84",
   "metadata": {},
   "outputs": [],
   "source": [
    "string=\"myname23\"\n",
    "print(string.startswith(\"my\"))"
   ]
  },
  {
   "cell_type": "code",
   "execution_count": null,
   "id": "6e349773",
   "metadata": {},
   "outputs": [],
   "source": [
    "string=\"myname23\"\n",
    "print(string.endswith(\"23\"))"
   ]
  },
  {
   "cell_type": "code",
   "execution_count": null,
   "id": "cdcfc5a4",
   "metadata": {},
   "outputs": [],
   "source": [
    "text= \"Sample\"\n",
    "print(text*5)"
   ]
  },
  {
   "cell_type": "code",
   "execution_count": null,
   "id": "580e8bb1",
   "metadata": {},
   "outputs": [],
   "source": [
    "text= \"Sample\" ## to find count \n",
    "len(text)"
   ]
  },
  {
   "cell_type": "code",
   "execution_count": null,
   "id": "b5fdebfe",
   "metadata": {},
   "outputs": [],
   "source": [
    "txt = \"Comp45yX\" ## to check all character in str are letter\n",
    "\n",
    "x = txt.isalpha()\n",
    "\n",
    "print(x)"
   ]
  },
  {
   "cell_type": "code",
   "execution_count": null,
   "id": "9e0e53ef",
   "metadata": {},
   "outputs": [],
   "source": [
    "txt = \"5080\"\n",
    "\n",
    "x = txt.isdigit()\n",
    "\n",
    "print(x)"
   ]
  },
  {
   "cell_type": "code",
   "execution_count": null,
   "id": "f98e5e0a",
   "metadata": {},
   "outputs": [],
   "source": [
    "txt = \"Hello, welcome to my world.\" ## to find string \n",
    "\n",
    "x = txt.find(\"welcome\")\n",
    "\n",
    "print(x)"
   ]
  },
  {
   "cell_type": "markdown",
   "id": "b70aafa8",
   "metadata": {},
   "source": [
    "### Concatenate each element of date with sep "
   ]
  },
  {
   "cell_type": "code",
   "execution_count": null,
   "id": "b74ee191",
   "metadata": {},
   "outputs": [],
   "source": [
    "date=\"12\",\"05\",\"2000\"\n",
    "sep='/'\n",
    "sep.join(date)"
   ]
  },
  {
   "cell_type": "code",
   "execution_count": null,
   "id": "78c3b906",
   "metadata": {},
   "outputs": [],
   "source": [
    "## print the string by removing leading and trailing \"*\" character\n",
    "text=\"***Python*for*Data*Science***\" \n",
    "text.strip(\"*\")"
   ]
  },
  {
   "cell_type": "code",
   "execution_count": null,
   "id": "6ee259fc",
   "metadata": {},
   "outputs": [],
   "source": []
  }
 ],
 "metadata": {
  "kernelspec": {
   "display_name": "Python 3 (ipykernel)",
   "language": "python",
   "name": "python3"
  },
  "language_info": {
   "codemirror_mode": {
    "name": "ipython",
    "version": 3
   },
   "file_extension": ".py",
   "mimetype": "text/x-python",
   "name": "python",
   "nbconvert_exporter": "python",
   "pygments_lexer": "ipython3",
   "version": "3.9.7"
  }
 },
 "nbformat": 4,
 "nbformat_minor": 5
}
