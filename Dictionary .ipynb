{
 "cells": [
  {
   "cell_type": "code",
   "execution_count": null,
   "id": "935b0075",
   "metadata": {},
   "outputs": [],
   "source": [
    "sample_dict = {\"a\":\"alpha\", 1:\"first\",2:\"second\",3:\"third\",1:\"fourth\",5:\"fourth\",6:\"sixth\"}\n"
   ]
  },
  {
   "cell_type": "code",
   "execution_count": null,
   "id": "f28934d7",
   "metadata": {},
   "outputs": [],
   "source": [
    "sample_dict ## key is unique/ values can be duplicated "
   ]
  },
  {
   "cell_type": "code",
   "execution_count": null,
   "id": "28efbce6",
   "metadata": {},
   "outputs": [],
   "source": [
    "sample_dict[\"a\"]"
   ]
  },
  {
   "cell_type": "code",
   "execution_count": null,
   "id": "85ff2be6",
   "metadata": {},
   "outputs": [],
   "source": [
    "sample_dict[2]"
   ]
  },
  {
   "cell_type": "code",
   "execution_count": null,
   "id": "8b128f83",
   "metadata": {},
   "outputs": [],
   "source": [
    "del sample_dict[2] ## delete second"
   ]
  },
  {
   "cell_type": "code",
   "execution_count": null,
   "id": "d7d19cba",
   "metadata": {},
   "outputs": [],
   "source": [
    "sample_dict"
   ]
  },
  {
   "cell_type": "markdown",
   "id": "2e545cc4",
   "metadata": {},
   "source": [
    "### word count"
   ]
  },
  {
   "cell_type": "code",
   "execution_count": null,
   "id": "fab10a42",
   "metadata": {},
   "outputs": [],
   "source": [
    "text=\"as mentioned as above can be done as\"\n",
    "word_count={}\n",
    "for word in text.split():\n",
    "    if word not in word_count:\n",
    "        word_count[word]=1\n",
    "    else:\n",
    "        word_count[word]+=1\n",
    "print(word_count)"
   ]
  }
 ],
 "metadata": {
  "kernelspec": {
   "display_name": "Python 3 (ipykernel)",
   "language": "python",
   "name": "python3"
  },
  "language_info": {
   "codemirror_mode": {
    "name": "ipython",
    "version": 3
   },
   "file_extension": ".py",
   "mimetype": "text/x-python",
   "name": "python",
   "nbconvert_exporter": "python",
   "pygments_lexer": "ipython3",
   "version": "3.9.7"
  }
 },
 "nbformat": 4,
 "nbformat_minor": 5
}
